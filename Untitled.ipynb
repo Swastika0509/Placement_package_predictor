{
 "cells": [
  {
   "cell_type": "code",
   "execution_count": 2,
   "id": "3d661f0f-f3ee-4703-a2ce-6d6f012ff729",
   "metadata": {},
   "outputs": [],
   "source": [
    "import pandas as pd # Import pandas for data fragmentation\n",
    "import numpy as np # To manupilate 3d arrays\n",
    "import seaborn as sns # To visualize\n",
    "import matplotlib.pyplot as plt # to visualize\n",
    "from sklearn.linear_model import LinearRegression\n"
   ]
  },
  {
   "cell_type": "code",
   "execution_count": 3,
   "id": "725edc6d-3161-4dae-892a-51e6af55fdcf",
   "metadata": {},
   "outputs": [
    {
     "name": "stdout",
     "output_type": "stream",
     "text": [
      "<class 'pandas.core.frame.DataFrame'>\n",
      "RangeIndex: 200 entries, 0 to 199\n",
      "Data columns (total 2 columns):\n",
      " #   Column   Non-Null Count  Dtype  \n",
      "---  ------   --------------  -----  \n",
      " 0   cgpa     200 non-null    float64\n",
      " 1   package  200 non-null    float64\n",
      "dtypes: float64(2)\n",
      "memory usage: 3.2 KB\n"
     ]
    }
   ],
   "source": [
    "\n",
    "df = pd.read_csv(\"./placement-dataset.csv\")\n",
    "df\n",
    "df.describe()\n",
    "df.info()\n"
   ]
  },
  {
   "cell_type": "code",
   "execution_count": 4,
   "id": "ad811bf9-6860-4a55-bfb2-60c16ae35fe0",
   "metadata": {},
   "outputs": [],
   "source": [
    "x = df[[\"cgpa\"]] # independent\n",
    "y = df[\"package\"]\n"
   ]
  },
  {
   "cell_type": "code",
   "execution_count": 5,
   "id": "a64c9b39-b4fe-4e4b-8ba9-e743b88d34be",
   "metadata": {},
   "outputs": [],
   "source": [
    "from sklearn.model_selection import train_test_split # import the function to split the data\n",
    "from sklearn.linear_model import LinearRegression # import Linear Regression function\n",
    "\n"
   ]
  },
  {
   "cell_type": "code",
   "execution_count": 6,
   "id": "3604b60e-36e6-43cb-a5cb-8e19c95de4ac",
   "metadata": {},
   "outputs": [],
   "source": [
    "x_train, x_test, y_train, y_test = train_test_split(x,y,test_size=0.3,random_state=42)"
   ]
  },
  {
   "cell_type": "code",
   "execution_count": 8,
   "id": "b19dfa6f-c908-4c06-84d5-909d3a7b465d",
   "metadata": {},
   "outputs": [],
   "source": [
    "model = LinearRegression()\n",
    "model.fit(x_train, y_train)\n",
    "predictions = model.predict(x_test)\n"
   ]
  },
  {
   "cell_type": "code",
   "execution_count": 9,
   "id": "d1993da8-9d47-48d5-9cb8-86e46f2f6a42",
   "metadata": {},
   "outputs": [
    {
     "name": "stdout",
     "output_type": "stream",
     "text": [
      "0.2606898249919377\n"
     ]
    }
   ],
   "source": [
    "from sklearn.metrics import mean_absolute_error\n",
    "mae = mean_absolute_error(y_test, predictions)\n",
    "print(mae)\n"
   ]
  },
  {
   "cell_type": "code",
   "execution_count": 14,
   "id": "88d2bc22-9238-4963-a23f-c9124cc0c4f7",
   "metadata": {},
   "outputs": [],
   "source": [
    "import pickle\n",
    "# Save the model using pickle\n",
    "with open(\"model.pkl\", 'wb') as f:\n",
    "    pickle.dump(model, f)\n"
   ]
  },
  {
   "cell_type": "code",
   "execution_count": null,
   "id": "09aaebb4-449e-4feb-95e2-d65ffd93fdc8",
   "metadata": {},
   "outputs": [],
   "source": []
  }
 ],
 "metadata": {
  "kernelspec": {
   "display_name": "Python 3 (ipykernel)",
   "language": "python",
   "name": "python3"
  },
  "language_info": {
   "codemirror_mode": {
    "name": "ipython",
    "version": 3
   },
   "file_extension": ".py",
   "mimetype": "text/x-python",
   "name": "python",
   "nbconvert_exporter": "python",
   "pygments_lexer": "ipython3",
   "version": "3.10.11"
  }
 },
 "nbformat": 4,
 "nbformat_minor": 5
}
